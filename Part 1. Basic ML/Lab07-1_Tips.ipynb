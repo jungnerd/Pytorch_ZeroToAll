{
 "cells": [
  {
   "cell_type": "markdown",
   "metadata": {},
   "source": [
    "# Tips"
   ]
  },
  {
   "cell_type": "code",
   "execution_count": 6,
   "metadata": {},
   "outputs": [],
   "source": [
    "import torch\n",
    "import torch.nn as nn\n",
    "import torch.nn.functional as F\n",
    "import torch.optim as optim"
   ]
  },
  {
   "cell_type": "code",
   "execution_count": 2,
   "metadata": {},
   "outputs": [],
   "source": [
    "x_train = torch.FloatTensor([[1, 2, 1],\n",
    "                            [1, 3, 2],\n",
    "                            [1, 3, 4],\n",
    "                            [1, 5, 5],\n",
    "                            [1, 7, 5],\n",
    "                            [1, 2, 5],\n",
    "                            [1, 6, 6],\n",
    "                            [1, 7, 7]]) # (m, 3) m개의 샘플이 3개의 element를 가진 1d 벡터\n",
    "y_train = torch.LongTensor([2, 2, 2, 1, 1, 1, 0, 0]) # (m,) 3개의 class"
   ]
  },
  {
   "cell_type": "code",
   "execution_count": 3,
   "metadata": {},
   "outputs": [],
   "source": [
    "x_test = torch.FloatTensor([[2, 1, 1],\n",
    "                            [3, 1, 2],\n",
    "                            [3, 3, 4]]) # (m', 3)\n",
    "y_test = torch.LongTensor([2, 2, 2]) # (m',)"
   ]
  },
  {
   "cell_type": "code",
   "execution_count": 7,
   "metadata": {},
   "outputs": [],
   "source": [
    "class SoftmaxClassifierModel(nn.Module):\n",
    "    def __init__(self) -> None:\n",
    "        super().__init__()\n",
    "        self.linear = nn.Linear(3, 3)\n",
    "        \n",
    "    def forward(self, x):\n",
    "        return self.linear(x)"
   ]
  },
  {
   "cell_type": "code",
   "execution_count": 8,
   "metadata": {},
   "outputs": [],
   "source": [
    "model = SoftmaxClassifierModel()"
   ]
  },
  {
   "cell_type": "code",
   "execution_count": 9,
   "metadata": {},
   "outputs": [],
   "source": [
    "optimizer = optim.SGD(model.parameters(), lr=0.1)"
   ]
  },
  {
   "cell_type": "code",
   "execution_count": 12,
   "metadata": {},
   "outputs": [],
   "source": [
    "def train(x_train, y_train, model, optimizer):\n",
    "    nb_epochs = 20\n",
    "    for epoch in range(nb_epochs + 1):\n",
    "        \n",
    "        prediction = model(x_train)\n",
    "        \n",
    "        cost = F.cross_entropy(prediction, y_train)\n",
    "        \n",
    "        optimizer.zero_grad()\n",
    "        cost.backward()\n",
    "        optimizer.step()\n",
    "        \n",
    "        print(f\"Epoch {epoch:4d}/{nb_epochs} Cost {cost.item():.6f}\")"
   ]
  },
  {
   "cell_type": "code",
   "execution_count": 13,
   "metadata": {},
   "outputs": [
    {
     "name": "stdout",
     "output_type": "stream",
     "text": [
      "Epoch    0/20 Cost 1.010919\n",
      "Epoch    1/20 Cost 0.974608\n",
      "Epoch    2/20 Cost 0.964301\n",
      "Epoch    3/20 Cost 0.954987\n",
      "Epoch    4/20 Cost 0.946692\n",
      "Epoch    5/20 Cost 0.938921\n",
      "Epoch    6/20 Cost 0.931682\n",
      "Epoch    7/20 Cost 0.924800\n",
      "Epoch    8/20 Cost 0.918264\n",
      "Epoch    9/20 Cost 0.912000\n",
      "Epoch   10/20 Cost 0.905993\n",
      "Epoch   11/20 Cost 0.900206\n",
      "Epoch   12/20 Cost 0.894627\n",
      "Epoch   13/20 Cost 0.889234\n",
      "Epoch   14/20 Cost 0.884018\n",
      "Epoch   15/20 Cost 0.878965\n",
      "Epoch   16/20 Cost 0.874065\n",
      "Epoch   17/20 Cost 0.869310\n",
      "Epoch   18/20 Cost 0.864691\n",
      "Epoch   19/20 Cost 0.860201\n",
      "Epoch   20/20 Cost 0.855834\n"
     ]
    }
   ],
   "source": [
    "train(x_train, y_train, model, optimizer)"
   ]
  },
  {
   "cell_type": "code",
   "execution_count": 14,
   "metadata": {},
   "outputs": [],
   "source": [
    "def test(x_test, y_test, model, optimizer):\n",
    "    prediction = model(x_test)\n",
    "    predicted_class = prediction.max(1)[1]\n",
    "    correct_count = (predicted_class == y_test).sum().item()\n",
    "    cost = F.cross_entropy(prediction, y_test)\n",
    "    \n",
    "    print(f\"Accuracy: {correct_count / len(y_test) * 100}% Cost: {cost.item():.6f}\")"
   ]
  },
  {
   "cell_type": "code",
   "execution_count": 17,
   "metadata": {},
   "outputs": [
    {
     "name": "stdout",
     "output_type": "stream",
     "text": [
      "Accuracy: 100.0% Cost: 0.441896\n"
     ]
    }
   ],
   "source": [
    "test(x_test, y_test, model, optimizer)"
   ]
  },
  {
   "cell_type": "markdown",
   "metadata": {},
   "source": [
    "# Data Processing"
   ]
  },
  {
   "cell_type": "code",
   "execution_count": 18,
   "metadata": {},
   "outputs": [],
   "source": [
    "x_train = torch.FloatTensor([[73, 80 ,75],\n",
    "                             [93, 88, 93],\n",
    "                             [89, 91, 90],\n",
    "                             [96, 98, 100],\n",
    "                             [73, 66, 70]])\n",
    "y_train = torch.FloatTensor([[152], [185], [180], [196], [142]])"
   ]
  },
  {
   "cell_type": "code",
   "execution_count": 21,
   "metadata": {},
   "outputs": [],
   "source": [
    "# Standardization 정규분포화를 해준다\n",
    "mu = x_train.mean(dim=0)\n",
    "sigma = x_train.std(dim=0)"
   ]
  },
  {
   "cell_type": "code",
   "execution_count": 22,
   "metadata": {},
   "outputs": [
    {
     "name": "stdout",
     "output_type": "stream",
     "text": [
      "tensor([[-1.0674, -0.3758, -0.8398],\n",
      "        [ 0.7418,  0.2778,  0.5863],\n",
      "        [ 0.3799,  0.5229,  0.3486],\n",
      "        [ 1.0132,  1.0948,  1.1409],\n",
      "        [-1.0674, -1.5197, -1.2360]])\n"
     ]
    }
   ],
   "source": [
    "norm_x_train = (x_train - mu) / sigma\n",
    "print(norm_x_train)"
   ]
  },
  {
   "cell_type": "code",
   "execution_count": 23,
   "metadata": {},
   "outputs": [],
   "source": [
    "class MultivariateLinearRegressionModel(nn.Module):\n",
    "    def __init__(self) -> None:\n",
    "        super().__init__()\n",
    "        self.linear = nn.Linear(3, 1)\n",
    "        \n",
    "    def forward(self, x):\n",
    "        return self.linear(x)"
   ]
  },
  {
   "cell_type": "code",
   "execution_count": 24,
   "metadata": {},
   "outputs": [],
   "source": [
    "model = MultivariateLinearRegressionModel()"
   ]
  },
  {
   "cell_type": "code",
   "execution_count": 25,
   "metadata": {},
   "outputs": [],
   "source": [
    "optimizer = optim.SGD(model.parameters(), lr=1e-1)  "
   ]
  },
  {
   "cell_type": "code",
   "execution_count": 29,
   "metadata": {},
   "outputs": [],
   "source": [
    "def train(model, optimizer, x_train, y_train):\n",
    "    nb_epochs = 20\n",
    "    for epoch in range(nb_epochs + 1):\n",
    "        \n",
    "        prediction = model(x_train)\n",
    "        \n",
    "        cost = F.mse_loss(prediction, y_train)\n",
    "        \n",
    "        optimizer.zero_grad()\n",
    "        cost.backward()\n",
    "        optimizer.step()\n",
    "        \n",
    "        print(\"Epoch {:4d}/{} Cost: {:.6f}\".format(\n",
    "            epoch, nb_epochs, cost.item()\n",
    "        ))"
   ]
  },
  {
   "cell_type": "code",
   "execution_count": 30,
   "metadata": {},
   "outputs": [
    {
     "name": "stdout",
     "output_type": "stream",
     "text": [
      "Epoch    0/20 Cost: 29767.099609\n",
      "Epoch    1/20 Cost: 18914.382812\n",
      "Epoch    2/20 Cost: 12065.729492\n",
      "Epoch    3/20 Cost: 7710.840820\n",
      "Epoch    4/20 Cost: 4931.925781\n",
      "Epoch    5/20 Cost: 3155.802246\n",
      "Epoch    6/20 Cost: 2019.767822\n",
      "Epoch    7/20 Cost: 1292.896851\n",
      "Epoch    8/20 Cost: 827.747437\n",
      "Epoch    9/20 Cost: 530.058472\n",
      "Epoch   10/20 Cost: 339.532532\n",
      "Epoch   11/20 Cost: 217.587723\n",
      "Epoch   12/20 Cost: 139.533722\n",
      "Epoch   13/20 Cost: 89.570412\n",
      "Epoch   14/20 Cost: 57.585091\n",
      "Epoch   15/20 Cost: 37.105988\n",
      "Epoch   16/20 Cost: 23.991329\n",
      "Epoch   17/20 Cost: 15.590254\n",
      "Epoch   18/20 Cost: 10.206043\n",
      "Epoch   19/20 Cost: 6.752865\n",
      "Epoch   20/20 Cost: 4.535928\n"
     ]
    }
   ],
   "source": [
    "train(model, optimizer, norm_x_train, y_train)"
   ]
  },
  {
   "cell_type": "code",
   "execution_count": 31,
   "metadata": {},
   "outputs": [
    {
     "name": "stdout",
     "output_type": "stream",
     "text": [
      "Epoch    0/20 Cost: 3992298.000000\n",
      "Epoch    1/20 Cost: 77296039886848.000000\n",
      "Epoch    2/20 Cost: 1496701248887383392256.000000\n",
      "Epoch    3/20 Cost: 28980974210711697890643804160.000000\n",
      "Epoch    4/20 Cost: 561165469184932933798662820010655744.000000\n",
      "Epoch    5/20 Cost: inf\n",
      "Epoch    6/20 Cost: inf\n",
      "Epoch    7/20 Cost: inf\n",
      "Epoch    8/20 Cost: inf\n",
      "Epoch    9/20 Cost: inf\n",
      "Epoch   10/20 Cost: inf\n",
      "Epoch   11/20 Cost: inf\n",
      "Epoch   12/20 Cost: nan\n",
      "Epoch   13/20 Cost: nan\n",
      "Epoch   14/20 Cost: nan\n",
      "Epoch   15/20 Cost: nan\n",
      "Epoch   16/20 Cost: nan\n",
      "Epoch   17/20 Cost: nan\n",
      "Epoch   18/20 Cost: nan\n",
      "Epoch   19/20 Cost: nan\n",
      "Epoch   20/20 Cost: nan\n"
     ]
    }
   ],
   "source": [
    "train(model, optimizer, x_train, y_train)"
   ]
  },
  {
   "cell_type": "code",
   "execution_count": null,
   "metadata": {},
   "outputs": [],
   "source": []
  }
 ],
 "metadata": {
  "kernelspec": {
   "display_name": "Python 3.9.10 ('base')",
   "language": "python",
   "name": "python3"
  },
  "language_info": {
   "codemirror_mode": {
    "name": "ipython",
    "version": 3
   },
   "file_extension": ".py",
   "mimetype": "text/x-python",
   "name": "python",
   "nbconvert_exporter": "python",
   "pygments_lexer": "ipython3",
   "version": "3.9.10"
  },
  "orig_nbformat": 4,
  "vscode": {
   "interpreter": {
    "hash": "1f8ea3a0f4d9f3821ab6aa23553a77690d947b6f312f512c996736cbdc63d629"
   }
  }
 },
 "nbformat": 4,
 "nbformat_minor": 2
}

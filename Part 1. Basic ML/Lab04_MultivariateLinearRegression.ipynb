{
 "cells": [
  {
   "cell_type": "markdown",
   "metadata": {},
   "source": [
    "## 다중 선형 회귀 구현하기\n"
   ]
  },
  {
   "cell_type": "code",
   "execution_count": 2,
   "metadata": {},
   "outputs": [],
   "source": [
    "import torch\n",
    "import torch.nn as nn\n",
    "import torch.nn.functional as F"
   ]
  },
  {
   "cell_type": "code",
   "execution_count": 3,
   "metadata": {},
   "outputs": [
    {
     "data": {
      "text/plain": [
       "<torch._C.Generator at 0x109c74370>"
      ]
     },
     "execution_count": 3,
     "metadata": {},
     "output_type": "execute_result"
    }
   ],
   "source": [
    "torch.manual_seed(1)"
   ]
  },
  {
   "cell_type": "code",
   "execution_count": 4,
   "metadata": {},
   "outputs": [],
   "source": [
    "# Data\n",
    "x_train = torch.FloatTensor([[73, 80, 75],\n",
    "                             [93, 88, 93],\n",
    "                             [96, 98, 100],\n",
    "                             [73, 66, 70]])\n",
    "\n",
    "y_train = torch.FloatTensor([[152],\n",
    "                             [185],\n",
    "                             [196],\n",
    "                             [142]])"
   ]
  },
  {
   "cell_type": "code",
   "execution_count": 7,
   "metadata": {},
   "outputs": [
    {
     "name": "stdout",
     "output_type": "stream",
     "text": [
      "[Parameter containing:\n",
      "tensor([[ 0.0803, -0.0707,  0.1601]], requires_grad=True), Parameter containing:\n",
      "tensor([0.0285], requires_grad=True)]\n"
     ]
    }
   ],
   "source": [
    "# model을 설정. Multi variate Linear Regression 이므로 input_dim=3, output_dim=1\n",
    "model = nn.Linear(3, 1)\n",
    "print(list(model.parameters())) # 입력 차원이 3이므로 3개의 가중치 w와 편향 b가 저장되어있음"
   ]
  },
  {
   "cell_type": "code",
   "execution_count": 8,
   "metadata": {},
   "outputs": [],
   "source": [
    "# optimizer 설정\n",
    "optimizer = torch.optim.SGD(model.parameters(), lr=1e-5)"
   ]
  },
  {
   "cell_type": "code",
   "execution_count": 10,
   "metadata": {},
   "outputs": [
    {
     "name": "stdout",
     "output_type": "stream",
     "text": [
      "Epoch    0/2000 Cost : 0.551485\n",
      "Epoch  100/2000 Cost : 0.541659\n",
      "Epoch  200/2000 Cost : 0.532326\n",
      "Epoch  300/2000 Cost : 0.523442\n",
      "Epoch  400/2000 Cost : 0.514989\n",
      "Epoch  500/2000 Cost : 0.506958\n",
      "Epoch  600/2000 Cost : 0.499293\n",
      "Epoch  700/2000 Cost : 0.491985\n",
      "Epoch  800/2000 Cost : 0.485016\n",
      "Epoch  900/2000 Cost : 0.478358\n",
      "Epoch 1000/2000 Cost : 0.472002\n",
      "Epoch 1100/2000 Cost : 0.465926\n",
      "Epoch 1200/2000 Cost : 0.460107\n",
      "Epoch 1300/2000 Cost : 0.454536\n",
      "Epoch 1400/2000 Cost : 0.449191\n",
      "Epoch 1500/2000 Cost : 0.444063\n",
      "Epoch 1600/2000 Cost : 0.439155\n",
      "Epoch 1700/2000 Cost : 0.434425\n",
      "Epoch 1800/2000 Cost : 0.429888\n",
      "Epoch 1900/2000 Cost : 0.425503\n",
      "Epoch 2000/2000 Cost : 0.421300\n"
     ]
    }
   ],
   "source": [
    "nb_epochs = 2000\n",
    "\n",
    "for epoch in range(nb_epochs + 1):\n",
    "    \n",
    "    # H(x) 계산\n",
    "    prediction = model(x_train) # forward(순전파) 연산\n",
    "    \n",
    "    # cost 계산\n",
    "    cost = F.mse_loss(prediction, y_train)\n",
    "    \n",
    "    # cost로 H(x) 개선\n",
    "    optimizer.zero_grad() # optimizer 초기화\n",
    "    cost.backward() # cost 함수를 미분해서 gradietn 계산\n",
    "    optimizer.step() # W와 b를 업데이트\n",
    "    \n",
    "    if epoch % 100 == 0:\n",
    "        print(f\"Epoch {epoch:4d}/{nb_epochs} Cost : {cost.item():.6f}\")"
   ]
  },
  {
   "cell_type": "code",
   "execution_count": 12,
   "metadata": {},
   "outputs": [
    {
     "name": "stdout",
     "output_type": "stream",
     "text": [
      "[Parameter containing:\n",
      "tensor([[0.7995, 0.4619, 0.7495]], requires_grad=True), Parameter containing:\n",
      "tensor([0.0422], requires_grad=True)]\n"
     ]
    }
   ],
   "source": [
    "print(list(model.parameters()))"
   ]
  },
  {
   "cell_type": "code",
   "execution_count": 13,
   "metadata": {},
   "outputs": [
    {
     "name": "stdout",
     "output_type": "stream",
     "text": [
      "학습 후 입력이 73, 80, 75일 때의 예측값 : tensor([[151.5749]], grad_fn=<AddmmBackward0>)\n"
     ]
    }
   ],
   "source": [
    "# 임의의 입력 [73, 80, 75]를 선언\n",
    "new_var = torch.FloatTensor([[73, 80, 75]])\n",
    "\n",
    "# 입력한 값 [73, 80 ,75]에 대해서 예측값 y를 리턴받아서 pred_y에 저장\n",
    "pred_y = model(new_var)\n",
    "print(f\"학습 후 입력이 73, 80, 75일 때의 예측값 : {pred_y}\")"
   ]
  }
 ],
 "metadata": {
  "kernelspec": {
   "display_name": "Python 3.9.10 ('base')",
   "language": "python",
   "name": "python3"
  },
  "language_info": {
   "codemirror_mode": {
    "name": "ipython",
    "version": 3
   },
   "file_extension": ".py",
   "mimetype": "text/x-python",
   "name": "python",
   "nbconvert_exporter": "python",
   "pygments_lexer": "ipython3",
   "version": "3.9.10"
  },
  "orig_nbformat": 4,
  "vscode": {
   "interpreter": {
    "hash": "1f8ea3a0f4d9f3821ab6aa23553a77690d947b6f312f512c996736cbdc63d629"
   }
  }
 },
 "nbformat": 4,
 "nbformat_minor": 2
}

{
 "cells": [
  {
   "cell_type": "markdown",
   "metadata": {},
   "source": [
    "# Logistic Regression"
   ]
  },
  {
   "cell_type": "markdown",
   "metadata": {},
   "source": [
    "## PyTorch로 Logistic Regression 구현하기"
   ]
  },
  {
   "cell_type": "code",
   "execution_count": 32,
   "metadata": {},
   "outputs": [],
   "source": [
    "import torch\n",
    "import torch.nn as nn\n",
    "import torch.nn.functional as F\n",
    "import torch.optim as optim"
   ]
  },
  {
   "cell_type": "code",
   "execution_count": 33,
   "metadata": {},
   "outputs": [
    {
     "data": {
      "text/plain": [
       "<torch._C.Generator at 0x10fcb0030>"
      ]
     },
     "execution_count": 33,
     "metadata": {},
     "output_type": "execute_result"
    }
   ],
   "source": [
    "torch.manual_seed(1)"
   ]
  },
  {
   "cell_type": "code",
   "execution_count": 34,
   "metadata": {},
   "outputs": [],
   "source": [
    "x_data = [[1, 2], [2, 3], [3, 1], [4, 3], [5, 3], [6, 2]]\n",
    "y_data = [[0], [0], [0], [1], [1], [1]]\n",
    "x_train = torch.FloatTensor(x_data)\n",
    "y_train = torch.FloatTensor(y_data)"
   ]
  },
  {
   "cell_type": "code",
   "execution_count": 35,
   "metadata": {},
   "outputs": [
    {
     "name": "stdout",
     "output_type": "stream",
     "text": [
      "torch.Size([6, 2])\n",
      "torch.Size([6, 1])\n"
     ]
    }
   ],
   "source": [
    "print(x_train.shape)\n",
    "print(y_train.shape)"
   ]
  },
  {
   "cell_type": "code",
   "execution_count": 36,
   "metadata": {},
   "outputs": [],
   "source": [
    "W = torch.zeros((2, 1), requires_grad=True) # X와 행렬곱해서 6 x 1 행렬이 나와야하므로 X는 2 x 1 행렬\n",
    "b = torch.zeros(1, requires_grad=True)"
   ]
  },
  {
   "cell_type": "code",
   "execution_count": 37,
   "metadata": {},
   "outputs": [],
   "source": [
    "hypothesis = 1 / (1 + torch.exp(-(x_train.matmul(W) + b))) # sigmoid 함수 / 여기서 H(x)는 x = 1 일 확률을 의미한다"
   ]
  },
  {
   "cell_type": "code",
   "execution_count": 38,
   "metadata": {},
   "outputs": [
    {
     "name": "stdout",
     "output_type": "stream",
     "text": [
      "tensor([[0.5000],\n",
      "        [0.5000],\n",
      "        [0.5000],\n",
      "        [0.5000],\n",
      "        [0.5000],\n",
      "        [0.5000]], grad_fn=<MulBackward0>)\n"
     ]
    }
   ],
   "source": [
    "print(hypothesis)"
   ]
  },
  {
   "cell_type": "code",
   "execution_count": 39,
   "metadata": {},
   "outputs": [],
   "source": [
    "hypothesis = torch.sigmoid(x_train.matmul(W) + b) # PyTorch 내장함수로 sigmoid 구현"
   ]
  },
  {
   "cell_type": "code",
   "execution_count": 40,
   "metadata": {},
   "outputs": [
    {
     "name": "stdout",
     "output_type": "stream",
     "text": [
      "tensor([[0.5000],\n",
      "        [0.5000],\n",
      "        [0.5000],\n",
      "        [0.5000],\n",
      "        [0.5000],\n",
      "        [0.5000]], grad_fn=<SigmoidBackward0>)\n"
     ]
    }
   ],
   "source": [
    "print(hypothesis)"
   ]
  },
  {
   "cell_type": "code",
   "execution_count": 41,
   "metadata": {},
   "outputs": [
    {
     "name": "stdout",
     "output_type": "stream",
     "text": [
      "tensor([[0.6931],\n",
      "        [0.6931],\n",
      "        [0.6931],\n",
      "        [0.6931],\n",
      "        [0.6931],\n",
      "        [0.6931]], grad_fn=<NegBackward0>)\n"
     ]
    }
   ],
   "source": [
    "# 원소에 대해서 오차를 구한다\n",
    "losses = - (y_train * torch.log(hypothesis) + (1 - y_train) * torch.log(1 - hypothesis))\n",
    "print(losses)"
   ]
  },
  {
   "cell_type": "code",
   "execution_count": 42,
   "metadata": {},
   "outputs": [
    {
     "name": "stdout",
     "output_type": "stream",
     "text": [
      "tensor(0.6931, grad_fn=<MeanBackward0>)\n"
     ]
    }
   ],
   "source": [
    "cost = losses.mean() # 오차의 평균을 구한 것이 cost\n",
    "print(cost)"
   ]
  },
  {
   "cell_type": "code",
   "execution_count": 43,
   "metadata": {},
   "outputs": [
    {
     "data": {
      "text/plain": [
       "tensor(0.6931, grad_fn=<BinaryCrossEntropyBackward0>)"
      ]
     },
     "execution_count": 43,
     "metadata": {},
     "output_type": "execute_result"
    }
   ],
   "source": [
    "# 위에서 losses와 cost를 직접 구하지 않고, PyTorch에 내장된 함수를 이용해서 cost를 쉽게 구할 수 있다.\n",
    "F.binary_cross_entropy(hypothesis, y_train) # 예측값, 실제값 순서로 입력"
   ]
  },
  {
   "cell_type": "code",
   "execution_count": 44,
   "metadata": {},
   "outputs": [],
   "source": [
    "x_data = [[1, 2], [2, 3], [3, 1], [4, 3], [5, 3], [6, 2]]\n",
    "y_data = [[0], [0], [0], [1], [1], [1]]\n",
    "x_train = torch.FloatTensor(x_data)\n",
    "y_train = torch.FloatTensor(y_data) "
   ]
  },
  {
   "cell_type": "code",
   "execution_count": 45,
   "metadata": {},
   "outputs": [
    {
     "name": "stdout",
     "output_type": "stream",
     "text": [
      "Epoch    0/1000 Cost : 0.693147\n",
      "Epoch  100/1000 Cost : 0.134722\n",
      "Epoch  200/1000 Cost : 0.080643\n",
      "Epoch  300/1000 Cost : 0.057900\n",
      "Epoch  400/1000 Cost : 0.045300\n",
      "Epoch  500/1000 Cost : 0.037261\n",
      "Epoch  600/1000 Cost : 0.031673\n",
      "Epoch  700/1000 Cost : 0.027556\n",
      "Epoch  800/1000 Cost : 0.024394\n",
      "Epoch  900/1000 Cost : 0.021888\n",
      "Epoch 1000/1000 Cost : 0.019852\n"
     ]
    }
   ],
   "source": [
    "# 모델 초기화\n",
    "W = torch.zeros((2, 1), requires_grad=True)\n",
    "b = torch.zeros((1), requires_grad=True)\n",
    "\n",
    "# optimizer 설정\n",
    "optimizer = optim.SGD([W, b], lr=1)\n",
    "\n",
    "nb_epochs = 1000\n",
    "for epoch in range(nb_epochs + 1):\n",
    "    \n",
    "    # cost 계산\n",
    "    hypothesis = torch.sigmoid(x_train.matmul(W) + b)\n",
    "    cost = -(y_train * torch.log(hypothesis) + (1 - y_train) * torch.log(1 - hypothesis)).mean()\n",
    "    \n",
    "    # cost로 H(x) 개선\n",
    "    optimizer.zero_grad()\n",
    "    cost.backward()\n",
    "    optimizer.step()\n",
    "    \n",
    "    # 100번마다 로그 출력\n",
    "    if epoch % 100 == 0:\n",
    "        print(f\"Epoch {epoch:4d}/{nb_epochs} Cost : {cost.item():.6f}\")\n",
    "\n"
   ]
  },
  {
   "cell_type": "code",
   "execution_count": 46,
   "metadata": {},
   "outputs": [
    {
     "name": "stdout",
     "output_type": "stream",
     "text": [
      "tensor([[2.7648e-04],\n",
      "        [3.1608e-02],\n",
      "        [3.8977e-02],\n",
      "        [9.5622e-01],\n",
      "        [9.9823e-01],\n",
      "        [9.9969e-01]], grad_fn=<SigmoidBackward0>)\n"
     ]
    }
   ],
   "source": [
    "hypothesis = torch.sigmoid(x_train.matmul(W) + b)\n",
    "print(hypothesis)"
   ]
  },
  {
   "cell_type": "code",
   "execution_count": 47,
   "metadata": {},
   "outputs": [
    {
     "name": "stdout",
     "output_type": "stream",
     "text": [
      "tensor([[False],\n",
      "        [False],\n",
      "        [False],\n",
      "        [ True],\n",
      "        [ True],\n",
      "        [ True]])\n"
     ]
    }
   ],
   "source": [
    "prediction = hypothesis >= torch.FloatTensor([0.5])\n",
    "print(prediction)"
   ]
  },
  {
   "cell_type": "code",
   "execution_count": 48,
   "metadata": {},
   "outputs": [
    {
     "name": "stdout",
     "output_type": "stream",
     "text": [
      "tensor([[3.2530],\n",
      "        [1.5179]], requires_grad=True)\n",
      "tensor([-14.4819], requires_grad=True)\n"
     ]
    }
   ],
   "source": [
    "print(W)\n",
    "print(b)"
   ]
  },
  {
   "cell_type": "markdown",
   "metadata": {},
   "source": [
    "### nn.Module로 구현하는 Logistic Regression"
   ]
  },
  {
   "cell_type": "code",
   "execution_count": 49,
   "metadata": {},
   "outputs": [],
   "source": [
    "import torch\n",
    "import torch.nn as nn \n",
    "import torch.nn.functional as F \n",
    "import torch.optim as optim"
   ]
  },
  {
   "cell_type": "code",
   "execution_count": 50,
   "metadata": {},
   "outputs": [
    {
     "data": {
      "text/plain": [
       "<torch._C.Generator at 0x10fcb0030>"
      ]
     },
     "execution_count": 50,
     "metadata": {},
     "output_type": "execute_result"
    }
   ],
   "source": [
    "torch.manual_seed(1)"
   ]
  },
  {
   "cell_type": "code",
   "execution_count": 51,
   "metadata": {},
   "outputs": [],
   "source": [
    "x_data = [[1, 2], [2, 3], [3, 1], [4, 3], [5, 3], [6, 2]]\n",
    "y_data = [[0], [0], [0], [1], [1], [1]]\n",
    "x_train = torch.FloatTensor(x_data)\n",
    "y_train = torch.FloatTensor(y_data) "
   ]
  },
  {
   "cell_type": "code",
   "execution_count": 52,
   "metadata": {},
   "outputs": [],
   "source": [
    "model = nn.Sequential( # nn.Sequential은 nn.Module층을 쌓을 수 있게 해준다.\n",
    "    nn.Linear(2,1), # input_dim=2, output_dim=1\n",
    "    nn.Sigmoid() # 출력은 Sigmoid 함수를 거친다.\n",
    ")"
   ]
  },
  {
   "cell_type": "code",
   "execution_count": 53,
   "metadata": {},
   "outputs": [
    {
     "data": {
      "text/plain": [
       "tensor([[0.4020],\n",
       "        [0.4147],\n",
       "        [0.6556],\n",
       "        [0.5948],\n",
       "        [0.6788],\n",
       "        [0.8061]], grad_fn=<SigmoidBackward0>)"
      ]
     },
     "execution_count": 53,
     "metadata": {},
     "output_type": "execute_result"
    }
   ],
   "source": [
    "model(x_train) # W와 b는 임의의 값을 가지므로 아직은 예측값이 의미가 없다."
   ]
  },
  {
   "cell_type": "code",
   "execution_count": 54,
   "metadata": {},
   "outputs": [],
   "source": [
    "# optimizer 설정\n",
    "optimizer = optim.SGD(model.parameters(), lr=1)"
   ]
  },
  {
   "cell_type": "code",
   "execution_count": 55,
   "metadata": {},
   "outputs": [
    {
     "name": "stdout",
     "output_type": "stream",
     "text": [
      "Epoch    0 / 1000 Cost: 0.539713 Accuracy: 0.83\n",
      "Epoch   20 / 1000 Cost: 0.441875 Accuracy: 0.67\n",
      "Epoch   40 / 1000 Cost: 0.316358 Accuracy: 0.83\n",
      "Epoch   60 / 1000 Cost: 0.220498 Accuracy: 1.00\n",
      "Epoch   80 / 1000 Cost: 0.157299 Accuracy: 1.00\n",
      "Epoch  100 / 1000 Cost: 0.134272 Accuracy: 1.00\n",
      "Epoch  120 / 1000 Cost: 0.118297 Accuracy: 1.00\n",
      "Epoch  140 / 1000 Cost: 0.105779 Accuracy: 1.00\n",
      "Epoch  160 / 1000 Cost: 0.095704 Accuracy: 1.00\n",
      "Epoch  180 / 1000 Cost: 0.087420 Accuracy: 1.00\n",
      "Epoch  200 / 1000 Cost: 0.080486 Accuracy: 1.00\n",
      "Epoch  220 / 1000 Cost: 0.074595 Accuracy: 1.00\n",
      "Epoch  240 / 1000 Cost: 0.069526 Accuracy: 1.00\n",
      "Epoch  260 / 1000 Cost: 0.065118 Accuracy: 1.00\n",
      "Epoch  280 / 1000 Cost: 0.061247 Accuracy: 1.00\n",
      "Epoch  300 / 1000 Cost: 0.057820 Accuracy: 1.00\n",
      "Epoch  320 / 1000 Cost: 0.054764 Accuracy: 1.00\n",
      "Epoch  340 / 1000 Cost: 0.052022 Accuracy: 1.00\n",
      "Epoch  360 / 1000 Cost: 0.049546 Accuracy: 1.00\n",
      "Epoch  380 / 1000 Cost: 0.047299 Accuracy: 1.00\n",
      "Epoch  400 / 1000 Cost: 0.045251 Accuracy: 1.00\n",
      "Epoch  420 / 1000 Cost: 0.043376 Accuracy: 1.00\n",
      "Epoch  440 / 1000 Cost: 0.041653 Accuracy: 1.00\n",
      "Epoch  460 / 1000 Cost: 0.040064 Accuracy: 1.00\n",
      "Epoch  480 / 1000 Cost: 0.038593 Accuracy: 1.00\n",
      "Epoch  500 / 1000 Cost: 0.037228 Accuracy: 1.00\n",
      "Epoch  520 / 1000 Cost: 0.035958 Accuracy: 1.00\n",
      "Epoch  540 / 1000 Cost: 0.034773 Accuracy: 1.00\n",
      "Epoch  560 / 1000 Cost: 0.033664 Accuracy: 1.00\n",
      "Epoch  580 / 1000 Cost: 0.032625 Accuracy: 1.00\n",
      "Epoch  600 / 1000 Cost: 0.031649 Accuracy: 1.00\n",
      "Epoch  620 / 1000 Cost: 0.030730 Accuracy: 1.00\n",
      "Epoch  640 / 1000 Cost: 0.029864 Accuracy: 1.00\n",
      "Epoch  660 / 1000 Cost: 0.029046 Accuracy: 1.00\n",
      "Epoch  680 / 1000 Cost: 0.028272 Accuracy: 1.00\n",
      "Epoch  700 / 1000 Cost: 0.027538 Accuracy: 1.00\n",
      "Epoch  720 / 1000 Cost: 0.026842 Accuracy: 1.00\n",
      "Epoch  740 / 1000 Cost: 0.026181 Accuracy: 1.00\n",
      "Epoch  760 / 1000 Cost: 0.025552 Accuracy: 1.00\n",
      "Epoch  780 / 1000 Cost: 0.024952 Accuracy: 1.00\n",
      "Epoch  800 / 1000 Cost: 0.024381 Accuracy: 1.00\n",
      "Epoch  820 / 1000 Cost: 0.023835 Accuracy: 1.00\n",
      "Epoch  840 / 1000 Cost: 0.023313 Accuracy: 1.00\n",
      "Epoch  860 / 1000 Cost: 0.022814 Accuracy: 1.00\n",
      "Epoch  880 / 1000 Cost: 0.022336 Accuracy: 1.00\n",
      "Epoch  900 / 1000 Cost: 0.021877 Accuracy: 1.00\n",
      "Epoch  920 / 1000 Cost: 0.021437 Accuracy: 1.00\n",
      "Epoch  940 / 1000 Cost: 0.021015 Accuracy: 1.00\n",
      "Epoch  960 / 1000 Cost: 0.020609 Accuracy: 1.00\n",
      "Epoch  980 / 1000 Cost: 0.020219 Accuracy: 1.00\n",
      "Epoch 1000 / 1000 Cost: 0.019843 Accuracy: 1.00\n"
     ]
    }
   ],
   "source": [
    "nb_epochs = 1000\n",
    "\n",
    "for epoch in range(nb_epochs + 1):\n",
    "    \n",
    "    # H(x) 계산\n",
    "    hypothesis = model(x_train)\n",
    "    \n",
    "    # Cost 계산\n",
    "    cost = F.binary_cross_entropy(hypothesis, y_train)\n",
    "    \n",
    "    # cost로 H(x) 계산\n",
    "    optimizer.zero_grad()\n",
    "    cost.backward()\n",
    "    optimizer.step()\n",
    "    \n",
    "    # 20번마다 로그 출력\n",
    "    if epoch % 20 == 0:\n",
    "        prediction = hypothesis >= torch.FloatTensor([0.5]) # 예측값이 0.5 이상일 때 True로 간주\n",
    "        correct_prediction = prediction.float() == y_train  # 예측값이 실제값과 같을 때 True로 간주\n",
    "        accuracy = correct_prediction.sum().item() / len(correct_prediction) # 정확도 계산\n",
    "        \n",
    "        print(f\"Epoch {epoch:4d} / {nb_epochs} Cost: {cost.item():.6f} Accuracy: {accuracy:2.2f}\")"
   ]
  },
  {
   "cell_type": "code",
   "execution_count": 56,
   "metadata": {},
   "outputs": [
    {
     "data": {
      "text/plain": [
       "tensor([[2.7616e-04],\n",
       "        [3.1595e-02],\n",
       "        [3.8959e-02],\n",
       "        [9.5624e-01],\n",
       "        [9.9823e-01],\n",
       "        [9.9969e-01]], grad_fn=<SigmoidBackward0>)"
      ]
     },
     "execution_count": 56,
     "metadata": {},
     "output_type": "execute_result"
    }
   ],
   "source": [
    "model(x_train)"
   ]
  },
  {
   "cell_type": "code",
   "execution_count": 57,
   "metadata": {},
   "outputs": [
    {
     "name": "stdout",
     "output_type": "stream",
     "text": [
      "[Parameter containing:\n",
      "tensor([[3.2534, 1.5181]], requires_grad=True), Parameter containing:\n",
      "tensor([-14.4839], requires_grad=True)]\n"
     ]
    }
   ],
   "source": [
    "print(list(model.parameters()))"
   ]
  },
  {
   "cell_type": "markdown",
   "metadata": {},
   "source": [
    "앞서 nn.Module을 이용하지 않은 실습에서 얻었던 W, b 값과 거의 일치한다"
   ]
  },
  {
   "cell_type": "markdown",
   "metadata": {},
   "source": [
    "### Class로 PyTorch 모델 구현하기"
   ]
  },
  {
   "cell_type": "code",
   "execution_count": 58,
   "metadata": {},
   "outputs": [],
   "source": [
    "\"\"\"\n",
    "model = nn.Sequential(\n",
    "    nn.Linear(2, 1),\n",
    "    nn.Sigmoid()\n",
    ")\n",
    "위의 모델을 class로 구현하면 다음과 같다\n",
    "\"\"\"\n",
    "class BinaryClassifier(nn.Module):\n",
    "    def __init__(self):\n",
    "        super().__init__()\n",
    "        self.linear = nn.Linear(2, 1)\n",
    "        self.sigmooid = nn.Sigmoid()\n",
    "        \n",
    "    def forward(self, x):\n",
    "        return self.sigmooid(self.linear(x))\n"
   ]
  },
  {
   "cell_type": "code",
   "execution_count": 59,
   "metadata": {},
   "outputs": [],
   "source": [
    "model = BinaryClassifier()"
   ]
  },
  {
   "cell_type": "code",
   "execution_count": 61,
   "metadata": {},
   "outputs": [],
   "source": [
    "# optimizer 설정\n",
    "optimzier = optim.SGD(model.parameters(), lr=1)"
   ]
  },
  {
   "cell_type": "markdown",
   "metadata": {},
   "source": [
    "나머지는 위와 같음"
   ]
  }
 ],
 "metadata": {
  "kernelspec": {
   "display_name": "Python 3.9.10 ('base')",
   "language": "python",
   "name": "python3"
  },
  "language_info": {
   "codemirror_mode": {
    "name": "ipython",
    "version": 3
   },
   "file_extension": ".py",
   "mimetype": "text/x-python",
   "name": "python",
   "nbconvert_exporter": "python",
   "pygments_lexer": "ipython3",
   "version": "3.9.10"
  },
  "orig_nbformat": 4,
  "vscode": {
   "interpreter": {
    "hash": "1f8ea3a0f4d9f3821ab6aa23553a77690d947b6f312f512c996736cbdc63d629"
   }
  }
 },
 "nbformat": 4,
 "nbformat_minor": 2
}
